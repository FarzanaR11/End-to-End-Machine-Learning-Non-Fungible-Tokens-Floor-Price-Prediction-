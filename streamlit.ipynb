{
  "cells": [
    {
      "cell_type": "code",
      "execution_count": null,
      "metadata": {
        "colab": {
          "base_uri": "https://localhost:8080/"
        },
        "id": "3lApCo-7XWV8",
        "outputId": "686ccc61-44d1-409c-ebd5-dddd0f806d19"
      },
      "outputs": [
        {
          "name": "stdout",
          "output_type": "stream",
          "text": [
            "\u001b[K     |████████████████████████████████| 9.1 MB 4.4 MB/s \n",
            "\u001b[K     |████████████████████████████████| 181 kB 64.3 MB/s \n",
            "\u001b[K     |████████████████████████████████| 235 kB 60.1 MB/s \n",
            "\u001b[K     |████████████████████████████████| 78 kB 7.1 MB/s \n",
            "\u001b[K     |████████████████████████████████| 4.7 MB 40.0 MB/s \n",
            "\u001b[K     |████████████████████████████████| 164 kB 57.9 MB/s \n",
            "\u001b[K     |████████████████████████████████| 63 kB 1.8 MB/s \n",
            "\u001b[K     |████████████████████████████████| 51 kB 6.0 MB/s \n",
            "\u001b[?25h  Building wheel for validators (setup.py) ... \u001b[?25l\u001b[?25hdone\n",
            "\u001b[K\u001b[?25h/tools/node/bin/lt -> /tools/node/lib/node_modules/localtunnel/bin/lt.js\n",
            "\u001b[K\u001b[?25h+ localtunnel@2.0.2\n",
            "added 22 packages from 22 contributors in 1.756s\n"
          ]
        }
      ],
      "source": [
        "!pip install streamlit --quiet\n",
        "!npm install -g localtunnel"
      ]
    },
    {
      "cell_type": "code",
      "execution_count": null,
      "metadata": {
        "colab": {
          "base_uri": "https://localhost:8080/"
        },
        "id": "OyUZdiuWhZ4l",
        "outputId": "5e309ce1-cb21-4650-a96f-b11fb6746576"
      },
      "outputs": [
        {
          "name": "stdout",
          "output_type": "stream",
          "text": [
            "Writing app.py\n"
          ]
        }
      ],
      "source": [
        "%%writefile app.py\n",
        "import numpy as np\n",
        "import cloudpickle as cp\n",
        "from urllib.request import urlopen\n",
        "import pickle\n",
        "import pandas as pd\n",
        "import streamlit as st\n",
        "from PIL import Image\n",
        "import pandas as pd\n",
        "import numpy as np\n",
        "from sklearn.ensemble import RandomForestClassifier\n",
        "from sklearn.metrics import accuracy_score,confusion_matrix,classification_report\n",
        "from sklearn.model_selection import train_test_split\n",
        "from sklearn.ensemble import RandomForestRegressor\n",
        "from sklearn.metrics import mean_absolute_error, mean_squared_error, r2_score\n",
        "\n",
        "#pickle_in = cp.load(urlopen(\"https://drive.google.com/uc?export=download&id=1c2Uwixm-3epbMjPScMWj91iSMVMaTsV9\"))\n",
        "#classifier-pickle.load(pickle_in)\n",
        "classifier = cp.load(urlopen(\"https://drive.google.com/uc?export=download&id=1c2Uwixm-3epbMjPScMWj91iSMVMaTsV9\"))\n",
        "def welcome():\n",
        "    return \"Welcome All\"\n",
        "\n",
        "def prediction_NFT(Owners, Floor_Price, Sales, Assets, Market_Cap_USD, Volume_USD, Owner_Asset_Ratio):\n",
        "    prediction=classifier.predict([[Owners, Floor_Price, Sales, Assets, Market_Cap_USD, Volume_USD, Owner_Asset_Ratio]])\n",
        "    print (prediction)\n",
        "    return prediction\n",
        "\n",
        "def main():\n",
        "    \n",
        "    #upload csv file\n",
        "    #df = st.file_uploader(\"/content/drive/MyDrive/NFT_Top_Collections.csv\", type={\"csv\", \"txt\"})\n",
        "    #if df is not None:\n",
        "       #df = pd.read_csv(df)\n",
        "    #st.write(df)\n",
        "    html_temp = \"\"\"\n",
        "    <div style=\"background-color: black; padding: 10px; color: white\">\n",
        "    <h2 style=\"color: white; text-align: center;\">NFT Floor Price Prediction Authenticator</h2>\n",
        "    </div>\n",
        "    \"\"\"\n",
        "    \n",
        "\n",
        "    \n",
        "    \n",
        "   \n",
        "\n",
        "    st.markdown(html_temp, unsafe_allow_html=True)\n",
        "    Owners = st.text_input(\"Owners\",\"Type Here\")\n",
        "    Floor_Price = st.text_input(\"Floor Price\",\"Type Here\")\n",
        "    Sales = st.text_input(\"Sales\",\"Type Here\")\n",
        "    Assets = st.text_input(\"Assets\",\"Type Here\")\n",
        "    Market_Cap_USD = st.text_input(\"Market Cap(USD)\", \"Type Here\")\n",
        "    Volume_USD = st.text_input(\"Volume(USD)\",\"Type Here\")\n",
        "    Owner_Asset_Ratio = st.text_input(\"Owner Asset Ratio\",\"Type Here\")\n",
        "    result=\"\"\n",
        "    if st.button(\"Predict\"):\n",
        "       result=prediction_NFT(Owners, Floor_Price , Sales, Assets, Market_Cap_USD, Volume_USD, Owner_Asset_Ratio)\n",
        "    if(result == 0):\n",
        "      result ='Wrong Prediction'\n",
        "    if(result == 1):\n",
        "      result ='Prediction of Floor Price is Correct'\n",
        "    st.success(f'The Floor Price(USD) : {result}')\n",
        "    if st.button(\"Information of Elements\"):\n",
        "        st.text(\"Lets Understand How it Works\")\n",
        "        st.text(\"Owners = 12, 123, 653\")\n",
        "        st.text(\"Floor Price = 0,1,2,3\")\n",
        "        st.text(\"Sales = 0,1,2,3\")\n",
        "        st.text(\"Assets = 1206,1242,585\")\n",
        "        st.text(\"Market Cap(USD) = 0,1,2,3,4,5,6\")\n",
        "        st.text(\"Volume(USD) = 1,0,3,4,2,5,8\")\n",
        "        st.text(\"Owner Asset Ratio= 78,14,15\")\n",
        "        st.text(\"Built with Streamlit by Farzana Rahman\")\n",
        "        html1 = ''' <div>\n",
        "        <h2 style=\"color :white; text-align : center;\">Variable info</h2>\n",
        "        Variable Definition Key\n",
        "        Prediction of Floor Price 0 = No, 1 = Yes\n",
        "        </div>'''\n",
        "        st.markdown(html1, unsafe_allow_html = True )\n",
        "if __name__=='__main__':\n",
        "    main()"
      ]
    },
    {
      "cell_type": "code",
      "execution_count": null,
      "metadata": {
        "colab": {
          "background_save": true,
          "base_uri": "https://localhost:8080/"
        },
        "id": "riCnI944gWaI",
        "outputId": "4f60c93d-4203-40c4-eaee-4bc6c77e0307"
      },
      "outputs": [
        {
          "name": "stdout",
          "output_type": "stream",
          "text": [
            "2022-09-11 18:12:31.328 INFO    numexpr.utils: NumExpr defaulting to 2 threads.\n",
            "\u001b[K\u001b[?25hnpx: installed 22 in 2.64s\n",
            "\u001b[0m\n",
            "\u001b[34m\u001b[1m  You can now view your Streamlit app in your browser.\u001b[0m\n",
            "\u001b[0m\n",
            "\u001b[34m  Network URL: \u001b[0m\u001b[1mhttp://172.28.0.2:8501\u001b[0m\n",
            "\u001b[34m  External URL: \u001b[0m\u001b[1mhttp://107.167.181.111:8501\u001b[0m\n",
            "\u001b[0m\n",
            "your url is: https://three-tables-crash-107-167-181-111.loca.lt\n",
            "/usr/local/lib/python3.7/dist-packages/sklearn/base.py:451: UserWarning: X does not have valid feature names, but RandomForestClassifier was fitted with feature names\n",
            "  \"X does not have valid feature names, but\"\n",
            "[1]\n"
          ]
        }
      ],
      "source": [
        "!streamlit run app.py & npx localtunnel --port 8501"
      ]
    }
  ],
  "metadata": {
    "colab": {
      "provenance": []
    },
    "kernelspec": {
      "display_name": "Python 3",
      "name": "python3"
    },
    "language_info": {
      "name": "python"
    }
  },
  "nbformat": 4,
  "nbformat_minor": 0
}